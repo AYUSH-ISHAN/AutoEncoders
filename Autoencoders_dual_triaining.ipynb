{
  "nbformat": 4,
  "nbformat_minor": 0,
  "metadata": {
    "colab": {
      "name": "Autoencoders_dual_triaining",
      "provenance": [],
      "collapsed_sections": []
    },
    "kernelspec": {
      "name": "python3",
      "display_name": "Python 3"
    },
    "language_info": {
      "name": "python"
    }
  },
  "cells": [
    {
      "cell_type": "code",
      "metadata": {
        "id": "nVTBU-Lf_yU1"
      },
      "source": [
        "import pandas\n",
        "import matplotlib\n",
        "import matplotlib.pyplot as plt\n",
        "import torch\n",
        "from torch import nn\n",
        "from torch.nn import functional as F\n",
        "import torchvision\n",
        "import torchvision.datasets as datasets\n",
        "import numpy as np"
      ],
      "execution_count": 191,
      "outputs": []
    },
    {
      "cell_type": "markdown",
      "metadata": {
        "id": "A2u4QN0xAwKA"
      },
      "source": [
        "# Preparing the MNIST Dataset"
      ]
    },
    {
      "cell_type": "code",
      "metadata": {
        "id": "Zc7oR1cmAK8n"
      },
      "source": [
        "# mnist = pandas.read_csv(\"sample_data/mnist_train_small.csv\")\n",
        "# mnist.head()"
      ],
      "execution_count": 192,
      "outputs": []
    },
    {
      "cell_type": "code",
      "metadata": {
        "id": "gbpyX6yFBZmy"
      },
      "source": [
        "mnist = mnist/255.  # normalising the pixels "
      ],
      "execution_count": 193,
      "outputs": []
    },
    {
      "cell_type": "code",
      "metadata": {
        "colab": {
          "base_uri": "https://localhost:8080/"
        },
        "id": "z0APcbTLGCm5",
        "outputId": "faa813d7-56ae-4e00-d4f7-a679cf5c4033"
      },
      "source": [
        "mnist = np.array(mnist)\n",
        "mnist.shape"
      ],
      "execution_count": 194,
      "outputs": [
        {
          "output_type": "execute_result",
          "data": {
            "text/plain": [
              "(19999, 785)"
            ]
          },
          "metadata": {},
          "execution_count": 194
        }
      ]
    },
    {
      "cell_type": "code",
      "metadata": {
        "id": "2x_dINE1BfM8"
      },
      "source": [
        "####  Data preparation for tensorflow part\n",
        "\n",
        "\n",
        "import tensorflow as tf\n",
        "import keras\n",
        "from tensorflow.keras.optimizers import Adam\n",
        "from tensorflow.keras.models import Sequential\n",
        "from tensorflow.keras.layers import Flatten, Dense\n",
        "\n",
        "(train_X, train_Y), (test_X, test_Y) = tf.keras.datasets.mnist.load_data()\n",
        "train_X = train_X/255\n",
        "train_y = train_Y/255\n"
      ],
      "execution_count": 195,
      "outputs": []
    },
    {
      "cell_type": "code",
      "metadata": {
        "colab": {
          "base_uri": "https://localhost:8080/"
        },
        "id": "EhPNvLe-HGjJ",
        "outputId": "5e5316bf-a400-472a-8763-558055a22ed6"
      },
      "source": [
        "## Designing networks\n",
        "\n",
        "encoder_input = keras.Input(shape=(28,28,1), name=\"img\")\n",
        "x = Flatten()(encoder_input)    # 784 X 1 (is the output)\n",
        "encoder_output = Dense(25, activation = \"relu\")(x)\n",
        "\n",
        "encoder = keras.Model(encoder_input, encoder_output, name='encoder')\n",
        "\n",
        "decoder_input = Dense(25, activation=\"relu\")(encoder_output)\n",
        "y = Dense(784, activation=\"relu\")(decoder_input)\n",
        "decoder_output = keras.layers.Reshape((28,28,1))(y)\n",
        "\n",
        "Autoencoders = keras.Model(encoder_input, decoder_output, name=\"Autoencoders\")\n",
        "\n",
        "opt = Adam(decay = 1e-6)\n",
        "\n",
        "Autoencoders.compile(opt, loss=\"mse\")\n",
        "Autoencoders.summary()"
      ],
      "execution_count": 196,
      "outputs": [
        {
          "output_type": "stream",
          "name": "stdout",
          "text": [
            "Model: \"Autoencoders\"\n",
            "_________________________________________________________________\n",
            "Layer (type)                 Output Shape              Param #   \n",
            "=================================================================\n",
            "img (InputLayer)             [(None, 28, 28, 1)]       0         \n",
            "_________________________________________________________________\n",
            "flatten_13 (Flatten)         (None, 784)               0         \n",
            "_________________________________________________________________\n",
            "dense_33 (Dense)             (None, 25)                19625     \n",
            "_________________________________________________________________\n",
            "dense_34 (Dense)             (None, 25)                650       \n",
            "_________________________________________________________________\n",
            "dense_35 (Dense)             (None, 784)               20384     \n",
            "_________________________________________________________________\n",
            "reshape_10 (Reshape)         (None, 28, 28, 1)         0         \n",
            "=================================================================\n",
            "Total params: 40,659\n",
            "Trainable params: 40,659\n",
            "Non-trainable params: 0\n",
            "_________________________________________________________________\n"
          ]
        }
      ]
    },
    {
      "cell_type": "markdown",
      "metadata": {
        "id": "1C9jeovpDO3E"
      },
      "source": [
        "# Training"
      ]
    },
    {
      "cell_type": "code",
      "metadata": {
        "colab": {
          "base_uri": "https://localhost:8080/"
        },
        "id": "Wm_kpRWnLziN",
        "outputId": "855ab50c-befa-42a8-9840-57ff4a7e53a4"
      },
      "source": [
        "results = Autoencoders.fit(train_X, train_X, epochs=5, batch_size=32, validation_split=0.2)\n",
        "results = Autoencoders.fit(train_X, train_X, epochs=5, batch_size=32, validation_split=0.2)"
      ],
      "execution_count": 197,
      "outputs": [
        {
          "output_type": "stream",
          "name": "stdout",
          "text": [
            "Epoch 1/5\n",
            "1500/1500 [==============================] - 5s 3ms/step - loss: 0.0343 - val_loss: 0.0275\n",
            "Epoch 2/5\n",
            "1500/1500 [==============================] - 6s 4ms/step - loss: 0.0265 - val_loss: 0.0257\n",
            "Epoch 3/5\n",
            "1500/1500 [==============================] - 5s 3ms/step - loss: 0.0257 - val_loss: 0.0256\n",
            "Epoch 4/5\n",
            "1500/1500 [==============================] - 3s 2ms/step - loss: 0.0255 - val_loss: 0.0252\n",
            "Epoch 5/5\n",
            "1500/1500 [==============================] - 4s 3ms/step - loss: 0.0253 - val_loss: 0.0250\n",
            "Epoch 1/5\n",
            "1500/1500 [==============================] - 4s 3ms/step - loss: 0.0250 - val_loss: 0.0247\n",
            "Epoch 2/5\n",
            "1500/1500 [==============================] - 4s 3ms/step - loss: 0.0248 - val_loss: 0.0246\n",
            "Epoch 3/5\n",
            "1500/1500 [==============================] - 4s 3ms/step - loss: 0.0247 - val_loss: 0.0246\n",
            "Epoch 4/5\n",
            "1500/1500 [==============================] - 4s 3ms/step - loss: 0.0246 - val_loss: 0.0244\n",
            "Epoch 5/5\n",
            "1500/1500 [==============================] - 4s 3ms/step - loss: 0.0245 - val_loss: 0.0244\n"
          ]
        }
      ]
    },
    {
      "cell_type": "code",
      "metadata": {
        "colab": {
          "base_uri": "https://localhost:8080/"
        },
        "id": "Z8awgNMrSRPJ",
        "outputId": "b981d1de-664e-4e6e-ea73-e113b006e46b"
      },
      "source": [
        "Autoencoders.save(\"Autoencoders.model\")"
      ],
      "execution_count": 198,
      "outputs": [
        {
          "output_type": "stream",
          "name": "stdout",
          "text": [
            "INFO:tensorflow:Assets written to: Autoencoders.model/assets\n"
          ]
        }
      ]
    },
    {
      "cell_type": "code",
      "metadata": {
        "id": "NzwmLuqTQrtz"
      },
      "source": [
        "loss = results.history['loss']\n",
        "val_loss = results.history['val_loss']\n",
        "r_epochs = range(5)"
      ],
      "execution_count": 199,
      "outputs": []
    },
    {
      "cell_type": "code",
      "metadata": {
        "colab": {
          "base_uri": "https://localhost:8080/",
          "height": 265
        },
        "id": "9Bl-JzteR5Ff",
        "outputId": "7773b5fa-5d97-4d24-f6dd-743c61c8530d"
      },
      "source": [
        "\n",
        "#Plot training and validation loss per epoch\n",
        "plt.plot(r_epochs,loss,'r',label='Training Loss')\n",
        "plt.plot(r_epochs,val_loss,'g',label='Testing Loss')   \n",
        "plt.legend()\n",
        "plt.show()"
      ],
      "execution_count": 200,
      "outputs": [
        {
          "output_type": "display_data",
          "data": {
            "image/png": "[encoded data removed]",
            "text/plain": [
              "<Figure size 432x288 with 1 Axes>"
            ]
          },
          "metadata": {
            "needs_background": "light"
          }
        }
      ]
    },
    {
      "cell_type": "markdown",
      "metadata": {
        "id": "3NNklbUAStDv"
      },
      "source": [
        "# Prediction part"
      ]
    },
    {
      "cell_type": "code",
      "metadata": {
        "colab": {
          "base_uri": "https://localhost:8080/"
        },
        "id": "xxRPBgxiSKRQ",
        "outputId": "5fc8d8a6-3b87-4a04-d4f9-1e94d30f52f8"
      },
      "source": [
        "predict = encoder.predict([test_X[0].reshape(-1, 28, 28, 1)])\n",
        "print(predict[0].shape)\n",
        "print(predict[0])"
      ],
      "execution_count": 201,
      "outputs": [
        {
          "output_type": "stream",
          "name": "stdout",
          "text": [
            "(25,)\n",
            "[ 350.6354  1226.0968    93.2187   188.03447    0.       230.24702\n",
            "  452.56903  558.5368   415.7613   351.9176   325.33105 1004.35724\n",
            "  252.11133  140.1992     0.       193.08043  306.67444  242.5488\n",
            "  323.61505  410.92822  762.30786  274.59253  390.763    638.35846\n",
            " 1190.6299 ]\n"
          ]
        }
      ]
    },
    {
      "cell_type": "code",
      "metadata": {
        "colab": {
          "base_uri": "https://localhost:8080/"
        },
        "id": "WeyOgRkuWD2i",
        "outputId": "3bb760d4-dd74-40b2-d4ef-339e47b52904"
      },
      "source": [
        "print(len(predict))\n",
        "print(predict)"
      ],
      "execution_count": 202,
      "outputs": [
        {
          "output_type": "stream",
          "name": "stdout",
          "text": [
            "1\n",
            "[[ 350.6354  1226.0968    93.2187   188.03447    0.       230.24702\n",
            "   452.56903  558.5368   415.7613   351.9176   325.33105 1004.35724\n",
            "   252.11133  140.1992     0.       193.08043  306.67444  242.5488\n",
            "   323.61505  410.92822  762.30786  274.59253  390.763    638.35846\n",
            "  1190.6299 ]]\n"
          ]
        }
      ]
    },
    {
      "cell_type": "code",
      "metadata": {
        "colab": {
          "base_uri": "https://localhost:8080/",
          "height": 282
        },
        "id": "EZ2VK2Q8TH94",
        "outputId": "e3af60b9-82ed-4a1e-e7c9-ed20441b394e"
      },
      "source": [
        "plt.imshow(predict[0].reshape((5, 5)), cmap=\"gray\")"
      ],
      "execution_count": 203,
      "outputs": [
        {
          "output_type": "execute_result",
          "data": {
            "text/plain": [
              "<matplotlib.image.AxesImage at 0x7f4b12e1e590>"
            ]
          },
          "metadata": {},
          "execution_count": 203
        },
        {
          "output_type": "display_data",
          "data": {
            "image/png": "[encoded data removed]",
            "text/plain": [
              "<Figure size 432x288 with 1 Axes>"
            ]
          },
          "metadata": {
            "needs_background": "light"
          }
        }
      ]
    },
    {
      "cell_type": "code",
      "metadata": {
        "colab": {
          "base_uri": "https://localhost:8080/",
          "height": 282
        },
        "id": "Q4IHL9ecU918",
        "outputId": "03426c97-74b1-4947-ce26-c6f2ae0cf78a"
      },
      "source": [
        "plt.imshow(test_X[0], cmap=\"gray\")\n",
        "print(test_X[0].shape)"
      ],
      "execution_count": 204,
      "outputs": [
        {
          "output_type": "stream",
          "name": "stdout",
          "text": [
            "(28, 28)\n"
          ]
        },
        {
          "output_type": "display_data",
          "data": {
            "image/png": "[encoded data removed]",
            "text/plain": [
              "<Figure size 432x288 with 1 Axes>"
            ]
          },
          "metadata": {
            "needs_background": "light"
          }
        }
      ]
    },
    {
      "cell_type": "code",
      "metadata": {
        "colab": {
          "base_uri": "https://localhost:8080/",
          "height": 282
        },
        "id": "wU3axajPVZcz",
        "outputId": "ef827356-1f3f-47ed-9b37-51d8cba874db"
      },
      "source": [
        "predict = Autoencoders.predict([test_X[0].reshape(-1,28,28,1)])\n",
        "img = predict[0]\n",
        "img = img.reshape(28,28)\n",
        "plt.imshow(img, cmap=\"gray\")"
      ],
      "execution_count": 205,
      "outputs": [
        {
          "output_type": "execute_result",
          "data": {
            "text/plain": [
              "<matplotlib.image.AxesImage at 0x7f4b11514ad0>"
            ]
          },
          "metadata": {},
          "execution_count": 205
        },
        {
          "output_type": "display_data",
          "data": {
            "image/png": "[encoded data removed]",
            "text/plain": [
              "<Figure size 432x288 with 1 Axes>"
            ]
          },
          "metadata": {
            "needs_background": "light"
          }
        }
      ]
    },
    {
      "cell_type": "code",
      "metadata": {
        "colab": {
          "base_uri": "https://localhost:8080/"
        },
        "id": "hRx4wTgzgbfy",
        "outputId": "a264071e-6000-44a6-b4ae-7bb56e2d9c82"
      },
      "source": [
        "print(test_X[0].shape)"
      ],
      "execution_count": 206,
      "outputs": [
        {
          "output_type": "stream",
          "name": "stdout",
          "text": [
            "(28, 28)\n"
          ]
        }
      ]
    },
    {
      "cell_type": "code",
      "metadata": {
        "id": "83IsLmvtfBf2"
      },
      "source": [
        "import random\n",
        "###  will put some random noises in the image..\n",
        "def noise_injection(img, prob = 5):\n",
        "  noisy = []\n",
        "  for row in img:\n",
        "    new_row = []\n",
        "    for pix in row:\n",
        "            if random.choice(range(100)) <= prob: \n",
        "                new_val = random.uniform(0, 1)\n",
        "                new_row.append(new_val)\n",
        "            else:\n",
        "                new_row.append(pix)\n",
        "    noisy.append(new_row)\n",
        "  return np.array(noisy)\n",
        "\n",
        "def remove_values(img, prob = 5):\n",
        "  noisy = []\n",
        "  for row in img:\n",
        "    new_row = []\n",
        "    for pix in row:\n",
        "            if random.choice(range(100)) <= prob: \n",
        "                new_val = 0\n",
        "                new_row.append(new_val)\n",
        "            else:\n",
        "                new_row.append(pix)\n",
        "    noisy.append(new_row)\n",
        "  return np.array(noisy)"
      ],
      "execution_count": 207,
      "outputs": []
    },
    {
      "cell_type": "code",
      "metadata": {
        "colab": {
          "base_uri": "https://localhost:8080/",
          "height": 282
        },
        "id": "UWVAKhGXf2jt",
        "outputId": "2fdb9550-9012-43ee-bb48-a37c58bb4bbe"
      },
      "source": [
        "noise = noise_injection(test_X[0], 10)\n",
        "plt.imshow(noise, cmap=\"gray\")"
      ],
      "execution_count": 208,
      "outputs": [
        {
          "output_type": "execute_result",
          "data": {
            "text/plain": [
              "<matplotlib.image.AxesImage at 0x7f4b114d3750>"
            ]
          },
          "metadata": {},
          "execution_count": 208
        },
        {
          "output_type": "display_data",
          "data": {
            "image/png": "[encoded data removed]",
            "text/plain": [
              "<Figure size 432x288 with 1 Axes>"
            ]
          },
          "metadata": {
            "needs_background": "light"
          }
        }
      ]
    },
    {
      "cell_type": "code",
      "metadata": {
        "colab": {
          "base_uri": "https://localhost:8080/",
          "height": 282
        },
        "id": "RNlvbR180uiE",
        "outputId": "a77a18a0-a587-4b08-e81c-218cca965665"
      },
      "source": [
        "predict = Autoencoders.predict([noise.reshape(-1,28,28,1)])\n",
        "img = predict[0]\n",
        "img = img.reshape(28,28)\n",
        "plt.imshow(img, cmap=\"gray\")"
      ],
      "execution_count": 209,
      "outputs": [
        {
          "output_type": "execute_result",
          "data": {
            "text/plain": [
              "<matplotlib.image.AxesImage at 0x7f4b113f2bd0>"
            ]
          },
          "metadata": {},
          "execution_count": 209
        },
        {
          "output_type": "display_data",
          "data": {
            "image/png": "[encoded data removed]",
            "text/plain": [
              "<Figure size 432x288 with 1 Axes>"
            ]
          },
          "metadata": {
            "needs_background": "light"
          }
        }
      ]
    },
    {
      "cell_type": "code",
      "metadata": {
        "colab": {
          "base_uri": "https://localhost:8080/",
          "height": 282
        },
        "id": "OMaQF6Mx1NSg",
        "outputId": "f8c2eee1-7769-4895-9a51-3c4f2b7f4a7f"
      },
      "source": [
        "noise = noise_injection(test_X[0], 40)\n",
        "plt.imshow(noise, cmap=\"gray\")"
      ],
      "execution_count": 210,
      "outputs": [
        {
          "output_type": "execute_result",
          "data": {
            "text/plain": [
              "<matplotlib.image.AxesImage at 0x7f4b114a8f90>"
            ]
          },
          "metadata": {},
          "execution_count": 210
        },
        {
          "output_type": "display_data",
          "data": {
            "image/png": "[encoded data removed]",
            "text/plain": [
              "<Figure size 432x288 with 1 Axes>"
            ]
          },
          "metadata": {
            "needs_background": "light"
          }
        }
      ]
    },
    {
      "cell_type": "code",
      "metadata": {
        "colab": {
          "base_uri": "https://localhost:8080/",
          "height": 282
        },
        "id": "Ye5Z1Dv31QQ3",
        "outputId": "62de2d69-a412-48d8-a052-1c78c8aa21f6"
      },
      "source": [
        "predict = Autoencoders.predict([noise.reshape(-1,28,28,1)])\n",
        "img = predict[0]\n",
        "img = img.reshape(28,28)\n",
        "plt.imshow(img, cmap=\"gray\")"
      ],
      "execution_count": 211,
      "outputs": [
        {
          "output_type": "execute_result",
          "data": {
            "text/plain": [
              "<matplotlib.image.AxesImage at 0x7f4b113446d0>"
            ]
          },
          "metadata": {},
          "execution_count": 211
        },
        {
          "output_type": "display_data",
          "data": {
            "image/png": "[encoded data removed]",
            "text/plain": [
              "<Figure size 432x288 with 1 Axes>"
            ]
          },
          "metadata": {
            "needs_background": "light"
          }
        }
      ]
    },
    {
      "cell_type": "code",
      "metadata": {
        "colab": {
          "base_uri": "https://localhost:8080/",
          "height": 282
        },
        "id": "Iyox0iGD0Id1",
        "outputId": "33255394-901d-4139-f47d-9a7635a111ec"
      },
      "source": [
        "removed = remove_values(test_X[0], 10)\n",
        "plt.imshow(removed, cmap=\"gray\")"
      ],
      "execution_count": 212,
      "outputs": [
        {
          "output_type": "execute_result",
          "data": {
            "text/plain": [
              "<matplotlib.image.AxesImage at 0x7f4b113b8210>"
            ]
          },
          "metadata": {},
          "execution_count": 212
        },
        {
          "output_type": "display_data",
          "data": {
            "image/png": "[encoded data removed]",
            "text/plain": [
              "<Figure size 432x288 with 1 Axes>"
            ]
          },
          "metadata": {
            "needs_background": "light"
          }
        }
      ]
    },
    {
      "cell_type": "code",
      "metadata": {
        "colab": {
          "base_uri": "https://localhost:8080/",
          "height": 282
        },
        "id": "EusjsfW7xmZo",
        "outputId": "dd01fa5b-7d56-4227-c04f-7b2b6fe68164"
      },
      "source": [
        "predict = Autoencoders.predict([removed.reshape(-1,28,28,1)])\n",
        "img = predict[0]\n",
        "img = img.reshape(28,28)\n",
        "plt.imshow(img, cmap=\"gray\")"
      ],
      "execution_count": 213,
      "outputs": [
        {
          "output_type": "execute_result",
          "data": {
            "text/plain": [
              "<matplotlib.image.AxesImage at 0x7f4b1122d3d0>"
            ]
          },
          "metadata": {},
          "execution_count": 213
        },
        {
          "output_type": "display_data",
          "data": {
            "image/png": "[encoded data removed]",
            "text/plain": [
              "<Figure size 432x288 with 1 Axes>"
            ]
          },
          "metadata": {
            "needs_background": "light"
          }
        }
      ]
    },
    {
      "cell_type": "code",
      "metadata": {
        "colab": {
          "base_uri": "https://localhost:8080/",
          "height": 282
        },
        "id": "fu1MKCri1VzD",
        "outputId": "e54f6c70-447d-4d81-d096-b834e872264a"
      },
      "source": [
        "removed = remove_values(test_X[0], 40)\n",
        "plt.imshow(removed, cmap=\"gray\")"
      ],
      "execution_count": 214,
      "outputs": [
        {
          "output_type": "execute_result",
          "data": {
            "text/plain": [
              "<matplotlib.image.AxesImage at 0x7f4b1136a090>"
            ]
          },
          "metadata": {},
          "execution_count": 214
        },
        {
          "output_type": "display_data",
          "data": {
            "image/png": "[encoded data removed]",
            "text/plain": [
              "<Figure size 432x288 with 1 Axes>"
            ]
          },
          "metadata": {
            "needs_background": "light"
          }
        }
      ]
    },
    {
      "cell_type": "code",
      "metadata": {
        "colab": {
          "base_uri": "https://localhost:8080/",
          "height": 282
        },
        "id": "VJBLuDUw1Z_9",
        "outputId": "ee00e811-f8f8-4c79-afdd-3ef47b93704d"
      },
      "source": [
        "predict = Autoencoders.predict([removed.reshape(-1,28,28,1)])\n",
        "img = predict[0]\n",
        "img = img.reshape(28,28)\n",
        "plt.imshow(img, cmap=\"gray\")"
      ],
      "execution_count": 215,
      "outputs": [
        {
          "output_type": "execute_result",
          "data": {
            "text/plain": [
              "<matplotlib.image.AxesImage at 0x7f4b11171e50>"
            ]
          },
          "metadata": {},
          "execution_count": 215
        },
        {
          "output_type": "display_data",
          "data": {
            "image/png": "[encoded data removed]",
            "text/plain": [
              "<Figure size 432x288 with 1 Axes>"
            ]
          },
          "metadata": {
            "needs_background": "light"
          }
        }
      ]
    }
  ]
}