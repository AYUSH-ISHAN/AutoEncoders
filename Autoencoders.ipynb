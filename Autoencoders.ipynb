{
  "nbformat": 4,
  "nbformat_minor": 0,
  "metadata": {
    "colab": {
      "name": "Autoencoders",
      "provenance": [],
      "collapsed_sections": []
    },
    "kernelspec": {
      "name": "python3",
      "display_name": "Python 3"
    },
    "language_info": {
      "name": "python"
    }
  },
  "cells": [
    {
      "cell_type": "code",
      "metadata": {
        "id": "nVTBU-Lf_yU1"
      },
      "source": [
        "import pandas\n",
        "import matplotlib\n",
        "import matplotlib.pyplot as plt\n",
        "import torch\n",
        "from torch import nn\n",
        "from torch.nn import functional as F\n",
        "import torchvision\n",
        "import torchvision.datasets as datasets\n",
        "import numpy as np"
      ],
      "execution_count": 157,
      "outputs": []
    },
    {
      "cell_type": "markdown",
      "metadata": {
        "id": "A2u4QN0xAwKA"
      },
      "source": [
        "# Preparing the MNIST Dataset"
      ]
    },
    {
      "cell_type": "code",
      "metadata": {
        "id": "Zc7oR1cmAK8n"
      },
      "source": [
        "# mnist = pandas.read_csv(\"sample_data/mnist_train_small.csv\")\n",
        "# mnist.head()"
      ],
      "execution_count": 158,
      "outputs": []
    },
    {
      "cell_type": "code",
      "metadata": {
        "id": "gbpyX6yFBZmy"
      },
      "source": [
        "mnist = mnist/255.  # normalising the pixels "
      ],
      "execution_count": 159,
      "outputs": []
    },
    {
      "cell_type": "code",
      "metadata": {
        "colab": {
          "base_uri": "https://localhost:8080/"
        },
        "id": "z0APcbTLGCm5",
        "outputId": "0fdcedbd-ca1d-4077-ba8c-9140a6a73bc6"
      },
      "source": [
        "mnist = np.array(mnist)\n",
        "mnist.shape"
      ],
      "execution_count": 160,
      "outputs": [
        {
          "output_type": "execute_result",
          "data": {
            "text/plain": [
              "(19999, 785)"
            ]
          },
          "metadata": {},
          "execution_count": 160
        }
      ]
    },
    {
      "cell_type": "code",
      "metadata": {
        "id": "2x_dINE1BfM8"
      },
      "source": [
        "####  Data preparation for tensorflow part\n",
        "\n",
        "\n",
        "import tensorflow as tf\n",
        "import keras\n",
        "from tensorflow.keras.optimizers import Adam\n",
        "from tensorflow.keras.models import Sequential\n",
        "from tensorflow.keras.layers import Flatten, Dense\n",
        "\n",
        "(train_X, train_Y), (test_X, test_Y) = tf.keras.datasets.mnist.load_data()\n",
        "train_X = train_X/255\n",
        "train_y = train_Y/255\n"
      ],
      "execution_count": 161,
      "outputs": []
    },
    {
      "cell_type": "code",
      "metadata": {
        "colab": {
          "base_uri": "https://localhost:8080/"
        },
        "id": "EhPNvLe-HGjJ",
        "outputId": "b3fa6a05-ccc1-4c25-bbfd-b36fd7048fc7"
      },
      "source": [
        "## Designing networks\n",
        "\n",
        "encoder_input = keras.Input(shape=(28,28,1), name=\"img\")\n",
        "x = Flatten()(encoder_input)    # 784 X 1 (is the output)\n",
        "encoder_output = Dense(25, activation = \"relu\")(x)\n",
        "\n",
        "encoder = keras.Model(encoder_input, encoder_output, name='encoder')\n",
        "\n",
        "decoder_input = Dense(25, activation=\"relu\")(encoder_output)\n",
        "y = Dense(784, activation=\"relu\")(decoder_input)\n",
        "decoder_output = keras.layers.Reshape((28,28,1))(y)\n",
        "\n",
        "Autoencoders = keras.Model(encoder_input, decoder_output, name=\"Autoencoders\")\n",
        "\n",
        "opt = Adam(decay = 1e-6)\n",
        "\n",
        "Autoencoders.compile(opt, loss=\"mse\")\n",
        "Autoencoders.summary()"
      ],
      "execution_count": 162,
      "outputs": [
        {
          "output_type": "stream",
          "name": "stdout",
          "text": [
            "Model: \"Autoencoders\"\n",
            "_________________________________________________________________\n",
            "Layer (type)                 Output Shape              Param #   \n",
            "=================================================================\n",
            "img (InputLayer)             [(None, 28, 28, 1)]       0         \n",
            "_________________________________________________________________\n",
            "flatten_12 (Flatten)         (None, 784)               0         \n",
            "_________________________________________________________________\n",
            "dense_30 (Dense)             (None, 25)                19625     \n",
            "_________________________________________________________________\n",
            "dense_31 (Dense)             (None, 25)                650       \n",
            "_________________________________________________________________\n",
            "dense_32 (Dense)             (None, 784)               20384     \n",
            "_________________________________________________________________\n",
            "reshape_9 (Reshape)          (None, 28, 28, 1)         0         \n",
            "=================================================================\n",
            "Total params: 40,659\n",
            "Trainable params: 40,659\n",
            "Non-trainable params: 0\n",
            "_________________________________________________________________\n"
          ]
        }
      ]
    },
    {
      "cell_type": "markdown",
      "metadata": {
        "id": "1C9jeovpDO3E"
      },
      "source": [
        "# Training"
      ]
    },
    {
      "cell_type": "code",
      "metadata": {
        "colab": {
          "base_uri": "https://localhost:8080/"
        },
        "id": "Wm_kpRWnLziN",
        "outputId": "a3824275-35fc-42f6-d828-90c2beeefc87"
      },
      "source": [
        "results = Autoencoders.fit(train_X, train_X, epochs=5, batch_size=32, validation_split=0.2)"
      ],
      "execution_count": 163,
      "outputs": [
        {
          "output_type": "stream",
          "name": "stdout",
          "text": [
            "Epoch 1/5\n",
            "1500/1500 [==============================] - 5s 3ms/step - loss: 0.0319 - val_loss: 0.0244\n",
            "Epoch 2/5\n",
            "1500/1500 [==============================] - 4s 2ms/step - loss: 0.0235 - val_loss: 0.0225\n",
            "Epoch 3/5\n",
            "1500/1500 [==============================] - 4s 3ms/step - loss: 0.0225 - val_loss: 0.0221\n",
            "Epoch 4/5\n",
            "1500/1500 [==============================] - 4s 3ms/step - loss: 0.0222 - val_loss: 0.0219\n",
            "Epoch 5/5\n",
            "1500/1500 [==============================] - 4s 2ms/step - loss: 0.0219 - val_loss: 0.0216\n"
          ]
        }
      ]
    },
    {
      "cell_type": "code",
      "metadata": {
        "colab": {
          "base_uri": "https://localhost:8080/"
        },
        "id": "Z8awgNMrSRPJ",
        "outputId": "24063596-ef5f-415c-8710-f14482b7345e"
      },
      "source": [
        "Autoencoders.save(\"Autoencoders.model\")"
      ],
      "execution_count": 164,
      "outputs": [
        {
          "output_type": "stream",
          "name": "stdout",
          "text": [
            "INFO:tensorflow:Assets written to: Autoencoders.model/assets\n"
          ]
        }
      ]
    },
    {
      "cell_type": "code",
      "metadata": {
        "id": "NzwmLuqTQrtz"
      },
      "source": [
        "loss = results.history['loss']\n",
        "val_loss = results.history['val_loss']\n",
        "r_epochs = range(5)"
      ],
      "execution_count": 165,
      "outputs": []
    },
    {
      "cell_type": "code",
      "metadata": {
        "colab": {
          "base_uri": "https://localhost:8080/",
          "height": 265
        },
        "id": "9Bl-JzteR5Ff",
        "outputId": "7f397572-c80a-43ba-d38d-be99c2d97dff"
      },
      "source": [
        "\n",
        "#Plot training and validation loss per epoch\n",
        "plt.plot(r_epochs,loss,'r',label='Training Loss')\n",
        "plt.plot(r_epochs,val_loss,'g',label='Testing Loss')   \n",
        "plt.legend()\n",
        "plt.show()"
      ],
      "execution_count": 166,
      "outputs": [
        {
          "output_type": "display_data",
          "data": {
            "image/png": "[encoded data removed]",
            "text/plain": [
              "<Figure size 432x288 with 1 Axes>"
            ]
          },
          "metadata": {
            "needs_background": "light"
          }
        }
      ]
    },
    {
      "cell_type": "markdown",
      "metadata": {
        "id": "3NNklbUAStDv"
      },
      "source": [
        "# Prediction part"
      ]
    },
    {
      "cell_type": "code",
      "metadata": {
        "colab": {
          "base_uri": "https://localhost:8080/"
        },
        "id": "xxRPBgxiSKRQ",
        "outputId": "eaa61d66-2e1a-4b10-da6b-9482993b7709"
      },
      "source": [
        "predict = encoder.predict([test_X[0].reshape(-1, 28, 28, 1)])\n",
        "print(predict[0].shape)\n",
        "print(predict[0])"
      ],
      "execution_count": 167,
      "outputs": [
        {
          "output_type": "stream",
          "name": "stdout",
          "text": [
            "WARNING:tensorflow:6 out of the last 13 calls to <function Model.make_predict_function.<locals>.predict_function at 0x7f4b1671a4d0> triggered tf.function retracing. Tracing is expensive and the excessive number of tracings could be due to (1) creating @tf.function repeatedly in a loop, (2) passing tensors with different shapes, (3) passing Python objects instead of tensors. For (1), please define your @tf.function outside of the loop. For (2), @tf.function has experimental_relax_shapes=True option that relaxes argument shapes that can avoid unnecessary retracing. For (3), please refer to https://www.tensorflow.org/guide/function#controlling_retracing and https://www.tensorflow.org/api_docs/python/tf/function for  more details.\n",
            "(25,)\n",
            "[ 136.62184  417.35095  284.4662   739.0717   752.1176   524.06683\n",
            "  237.90718 1133.1768     0.       331.5162   229.7922   582.2144\n",
            "  456.28732    0.       273.93332  482.7766   342.6943    87.24531\n",
            "  601.57635  732.9138   334.0005   116.35559  813.73883  302.50558\n",
            " 1013.18   ]\n"
          ]
        }
      ]
    },
    {
      "cell_type": "code",
      "metadata": {
        "colab": {
          "base_uri": "https://localhost:8080/"
        },
        "id": "WeyOgRkuWD2i",
        "outputId": "eed20ed5-33e9-4fb6-9f35-2431fca915fb"
      },
      "source": [
        "print(len(predict))\n",
        "print(predict)"
      ],
      "execution_count": 168,
      "outputs": [
        {
          "output_type": "stream",
          "name": "stdout",
          "text": [
            "1\n",
            "[[ 136.62184  417.35095  284.4662   739.0717   752.1176   524.06683\n",
            "   237.90718 1133.1768     0.       331.5162   229.7922   582.2144\n",
            "   456.28732    0.       273.93332  482.7766   342.6943    87.24531\n",
            "   601.57635  732.9138   334.0005   116.35559  813.73883  302.50558\n",
            "  1013.18   ]]\n"
          ]
        }
      ]
    },
    {
      "cell_type": "code",
      "metadata": {
        "colab": {
          "base_uri": "https://localhost:8080/",
          "height": 282
        },
        "id": "EZ2VK2Q8TH94",
        "outputId": "7a13024b-9275-4d27-e251-791a473419bf"
      },
      "source": [
        "plt.imshow(predict[0].reshape((5, 5)), cmap=\"gray\")"
      ],
      "execution_count": 169,
      "outputs": [
        {
          "output_type": "execute_result",
          "data": {
            "text/plain": [
              "<matplotlib.image.AxesImage at 0x7f4b14035310>"
            ]
          },
          "metadata": {},
          "execution_count": 169
        },
        {
          "output_type": "display_data",
          "data": {
            "image/png": "[encoded data removed]",
            "text/plain": [
              "<Figure size 432x288 with 1 Axes>"
            ]
          },
          "metadata": {
            "needs_background": "light"
          }
        }
      ]
    },
    {
      "cell_type": "code",
      "metadata": {
        "colab": {
          "base_uri": "https://localhost:8080/",
          "height": 282
        },
        "id": "Q4IHL9ecU918",
        "outputId": "25803464-0a6c-4a2c-9b1f-9b94c5e391ad"
      },
      "source": [
        "plt.imshow(test_X[0], cmap=\"gray\")\n",
        "print(test_X[0].shape)"
      ],
      "execution_count": 170,
      "outputs": [
        {
          "output_type": "stream",
          "name": "stdout",
          "text": [
            "(28, 28)\n"
          ]
        },
        {
          "output_type": "display_data",
          "data": {
            "image/png": "[encoded data removed]",
            "text/plain": [
              "<Figure size 432x288 with 1 Axes>"
            ]
          },
          "metadata": {
            "needs_background": "light"
          }
        }
      ]
    },
    {
      "cell_type": "code",
      "metadata": {
        "colab": {
          "base_uri": "https://localhost:8080/",
          "height": 282
        },
        "id": "wU3axajPVZcz",
        "outputId": "c6b35651-2d5c-439a-d8db-8cf60f7be38c"
      },
      "source": [
        "predict = Autoencoders.predict([test_X[0].reshape(-1,28,28,1)])\n",
        "img = predict[0]\n",
        "img = img.reshape(28,28)\n",
        "plt.imshow(img, cmap=\"gray\")"
      ],
      "execution_count": 171,
      "outputs": [
        {
          "output_type": "execute_result",
          "data": {
            "text/plain": [
              "<matplotlib.image.AxesImage at 0x7f4b107df590>"
            ]
          },
          "metadata": {},
          "execution_count": 171
        },
        {
          "output_type": "display_data",
          "data": {
            "image/png": "[encoded data removed]",
            "text/plain": [
              "<Figure size 432x288 with 1 Axes>"
            ]
          },
          "metadata": {
            "needs_background": "light"
          }
        }
      ]
    },
    {
      "cell_type": "code",
      "metadata": {
        "colab": {
          "base_uri": "https://localhost:8080/"
        },
        "id": "hRx4wTgzgbfy",
        "outputId": "900271ad-4af7-4ce3-f59b-5f0279b013d8"
      },
      "source": [
        "print(test_X[0].shape)"
      ],
      "execution_count": 172,
      "outputs": [
        {
          "output_type": "stream",
          "name": "stdout",
          "text": [
            "(28, 28)\n"
          ]
        }
      ]
    },
    {
      "cell_type": "code",
      "metadata": {
        "id": "83IsLmvtfBf2"
      },
      "source": [
        "import random\n",
        "###  will put some random noises in the image..\n",
        "def noise_injection(img, prob = 5):\n",
        "  noisy = []\n",
        "  for row in img:\n",
        "    new_row = []\n",
        "    for pix in row:\n",
        "            if random.choice(range(100)) <= prob: \n",
        "                new_val = random.uniform(0, 1)\n",
        "                new_row.append(new_val)\n",
        "            else:\n",
        "                new_row.append(pix)\n",
        "    noisy.append(new_row)\n",
        "  return np.array(noisy)\n",
        "\n",
        "def remove_values(img, prob = 5):\n",
        "  noisy = []\n",
        "  for row in img:\n",
        "    new_row = []\n",
        "    for pix in row:\n",
        "            if random.choice(range(100)) <= prob: \n",
        "                new_val = 0\n",
        "                new_row.append(new_val)\n",
        "            else:\n",
        "                new_row.append(pix)\n",
        "    noisy.append(new_row)\n",
        "  return np.array(noisy)"
      ],
      "execution_count": 177,
      "outputs": []
    },
    {
      "cell_type": "code",
      "metadata": {
        "colab": {
          "base_uri": "https://localhost:8080/",
          "height": 282
        },
        "id": "UWVAKhGXf2jt",
        "outputId": "93a9f273-fb40-4f8c-bc20-dd6b421f0d9c"
      },
      "source": [
        "noise = noise_injection(test_X[0], 10)\n",
        "plt.imshow(noise, cmap=\"gray\")"
      ],
      "execution_count": 181,
      "outputs": [
        {
          "output_type": "execute_result",
          "data": {
            "text/plain": [
              "<matplotlib.image.AxesImage at 0x7f4b1615cb10>"
            ]
          },
          "metadata": {},
          "execution_count": 181
        },
        {
          "output_type": "display_data",
          "data": {
            "image/png": "[encoded data removed]",
            "text/plain": [
              "<Figure size 432x288 with 1 Axes>"
            ]
          },
          "metadata": {
            "needs_background": "light"
          }
        }
      ]
    },
    {
      "cell_type": "code",
      "metadata": {
        "colab": {
          "base_uri": "https://localhost:8080/",
          "height": 282
        },
        "id": "RNlvbR180uiE",
        "outputId": "6be496ce-7a68-4daa-8074-f70e17ebabae"
      },
      "source": [
        "predict = Autoencoders.predict([noise.reshape(-1,28,28,1)])\n",
        "img = predict[0]\n",
        "img = img.reshape(28,28)\n",
        "plt.imshow(img, cmap=\"gray\")"
      ],
      "execution_count": 185,
      "outputs": [
        {
          "output_type": "execute_result",
          "data": {
            "text/plain": [
              "<matplotlib.image.AxesImage at 0x7f4b16696410>"
            ]
          },
          "metadata": {},
          "execution_count": 185
        },
        {
          "output_type": "display_data",
          "data": {
            "image/png": "[encoded data removed]",
            "text/plain": [
              "<Figure size 432x288 with 1 Axes>"
            ]
          },
          "metadata": {
            "needs_background": "light"
          }
        }
      ]
    },
    {
      "cell_type": "code",
      "metadata": {
        "colab": {
          "base_uri": "https://localhost:8080/",
          "height": 282
        },
        "id": "OMaQF6Mx1NSg",
        "outputId": "36a7a39d-2c70-4eaa-c25e-85230fdba351"
      },
      "source": [
        "noise = noise_injection(test_X[0], 40)\n",
        "plt.imshow(noise, cmap=\"gray\")"
      ],
      "execution_count": 187,
      "outputs": [
        {
          "output_type": "execute_result",
          "data": {
            "text/plain": [
              "<matplotlib.image.AxesImage at 0x7f4b107c5690>"
            ]
          },
          "metadata": {},
          "execution_count": 187
        },
        {
          "output_type": "display_data",
          "data": {
            "image/png": "[encoded data removed]",
            "text/plain": [
              "<Figure size 432x288 with 1 Axes>"
            ]
          },
          "metadata": {
            "needs_background": "light"
          }
        }
      ]
    },
    {
      "cell_type": "code",
      "metadata": {
        "colab": {
          "base_uri": "https://localhost:8080/",
          "height": 282
        },
        "id": "Ye5Z1Dv31QQ3",
        "outputId": "2e0fa3aa-d962-420b-c6cc-c7c3aabd2527"
      },
      "source": [
        "predict = Autoencoders.predict([noise.reshape(-1,28,28,1)])\n",
        "img = predict[0]\n",
        "img = img.reshape(28,28)\n",
        "plt.imshow(img, cmap=\"gray\")"
      ],
      "execution_count": 188,
      "outputs": [
        {
          "output_type": "execute_result",
          "data": {
            "text/plain": [
              "<matplotlib.image.AxesImage at 0x7f4b16203b90>"
            ]
          },
          "metadata": {},
          "execution_count": 188
        },
        {
          "output_type": "display_data",
          "data": {
            "image/png": "[encoded data removed]",
            "text/plain": [
              "<Figure size 432x288 with 1 Axes>"
            ]
          },
          "metadata": {
            "needs_background": "light"
          }
        }
      ]
    },
    {
      "cell_type": "code",
      "metadata": {
        "colab": {
          "base_uri": "https://localhost:8080/",
          "height": 282
        },
        "id": "Iyox0iGD0Id1",
        "outputId": "782d8d89-795d-4d24-8099-749ea1ec8064"
      },
      "source": [
        "removed = remove_values(test_X[0], 10)\n",
        "plt.imshow(removed, cmap=\"gray\")"
      ],
      "execution_count": 183,
      "outputs": [
        {
          "output_type": "execute_result",
          "data": {
            "text/plain": [
              "<matplotlib.image.AxesImage at 0x7f4b161b4090>"
            ]
          },
          "metadata": {},
          "execution_count": 183
        },
        {
          "output_type": "display_data",
          "data": {
            "image/png": "[encoded data removed]",
            "text/plain": [
              "<Figure size 432x288 with 1 Axes>"
            ]
          },
          "metadata": {
            "needs_background": "light"
          }
        }
      ]
    },
    {
      "cell_type": "code",
      "metadata": {
        "colab": {
          "base_uri": "https://localhost:8080/",
          "height": 282
        },
        "id": "EusjsfW7xmZo",
        "outputId": "ae15c017-e62b-4075-e017-5457bfc833ec"
      },
      "source": [
        "predict = Autoencoders.predict([removed.reshape(-1,28,28,1)])\n",
        "img = predict[0]\n",
        "img = img.reshape(28,28)\n",
        "plt.imshow(img, cmap=\"gray\")"
      ],
      "execution_count": 186,
      "outputs": [
        {
          "output_type": "execute_result",
          "data": {
            "text/plain": [
              "<matplotlib.image.AxesImage at 0x7f4b11ecead0>"
            ]
          },
          "metadata": {},
          "execution_count": 186
        },
        {
          "output_type": "display_data",
          "data": {
            "image/png": "[encoded data removed]",
            "text/plain": [
              "<Figure size 432x288 with 1 Axes>"
            ]
          },
          "metadata": {
            "needs_background": "light"
          }
        }
      ]
    },
    {
      "cell_type": "code",
      "metadata": {
        "colab": {
          "base_uri": "https://localhost:8080/",
          "height": 282
        },
        "id": "fu1MKCri1VzD",
        "outputId": "6dd39da1-9f32-4ea0-f431-632f4d9e13bc"
      },
      "source": [
        "removed = remove_values(test_X[0], 40)\n",
        "plt.imshow(removed, cmap=\"gray\")"
      ],
      "execution_count": 189,
      "outputs": [
        {
          "output_type": "execute_result",
          "data": {
            "text/plain": [
              "<matplotlib.image.AxesImage at 0x7f4b1600b290>"
            ]
          },
          "metadata": {},
          "execution_count": 189
        },
        {
          "output_type": "display_data",
          "data": {
            "image/png": "[encoded data removed]",
            "text/plain": [
              "<Figure size 432x288 with 1 Axes>"
            ]
          },
          "metadata": {
            "needs_background": "light"
          }
        }
      ]
    },
    {
      "cell_type": "code",
      "metadata": {
        "colab": {
          "base_uri": "https://localhost:8080/",
          "height": 282
        },
        "id": "VJBLuDUw1Z_9",
        "outputId": "4004106f-0f14-4ff2-9014-8d5165aed2c4"
      },
      "source": [
        "predict = Autoencoders.predict([removed.reshape(-1,28,28,1)])\n",
        "img = predict[0]\n",
        "img = img.reshape(28,28)\n",
        "plt.imshow(img, cmap=\"gray\")"
      ],
      "execution_count": 190,
      "outputs": [
        {
          "output_type": "execute_result",
          "data": {
            "text/plain": [
              "<matplotlib.image.AxesImage at 0x7f4b13fa6950>"
            ]
          },
          "metadata": {},
          "execution_count": 190
        },
        {
          "output_type": "display_data",
          "data": {
            "image/png": "[encoded data removed]",
            "text/plain": [
              "<Figure size 432x288 with 1 Axes>"
            ]
          },
          "metadata": {
            "needs_background": "light"
          }
        }
      ]
    }
  ]
}